{
 "cells": [
  {
   "cell_type": "markdown",
   "metadata": {},
   "source": [
    "                                                                                                                                                    Codigo creado por Maria Renee Meza\n",
    "# Proyecto 1: Lanzamiento de Proyectiles con Cinematica\n",
    "\n",
    "## Inciso 1\n",
    "### Crear funciones para x(t), y(t) y r(t).\n",
    "\n",
    "La funcion de posicion en x con respecto al tiempo x(t) es: "
   ]
  },
  {
   "cell_type": "code",
   "execution_count": 1,
   "metadata": {},
   "outputs": [],
   "source": [
    "def posicion_x(xo,vxo,t):\n",
    "    x1 = xo + vxo*t\n",
    "    return(x1)"
   ]
  },
  {
   "cell_type": "markdown",
   "metadata": {},
   "source": [
    "La funcion de posicion en y con respecto al tiempo y(t) es:"
   ]
  },
  {
   "cell_type": "code",
   "execution_count": 2,
   "metadata": {},
   "outputs": [],
   "source": [
    "def posicion_y(yo,vyo,t,a):\n",
    "    y1 = yo + vyo*t + (1/2)*a*(t**2)\n",
    "    return(y1)"
   ]
  },
  {
   "cell_type": "markdown",
   "metadata": {},
   "source": [
    "Combinando las dos funciones anteriores obtenemos el vector de posicion r(t)=(x(t),y(t))."
   ]
  },
  {
   "cell_type": "code",
   "execution_count": 3,
   "metadata": {},
   "outputs": [],
   "source": [
    "def posicion_xy(xo,yo,vxo,vyo,t,a):\n",
    "    r=[posicion_x(xo,vxo,t),posicion_y(yo,vyo,t,a)]\n",
    "    return(r)"
   ]
  },
  {
   "cell_type": "markdown",
   "metadata": {},
   "source": [
    "## Inciso 2\n",
    "### 2) Escriba una funcion que calcule la velocidad del proyectil en todo tiempo y devuelva el porcentaje que esa velocidad representa respecto a la velocidad incial Vo."
   ]
  },
  {
   "cell_type": "code",
   "execution_count": 19,
   "metadata": {},
   "outputs": [],
   "source": [
    "def porcentajevelocidades():\n",
    "    print(\"Movimiento de Proyectiles\\nEste programa calcula el porcentaje que representa la velocidad en un tiempo t respecto a la velocidad inicial de un objeto en movimiento de proyectil.\\nRecuerde ingresar valores numericos solamente.\")\n",
    "    try:\n",
    "        vxo=float(input(\"Ingrese la velocidad horizontal Vxo inicial: \"))\n",
    "        vyo=float(input(\"Ingrese la velocidad vertical Vyo inicial: \"))\n",
    "        t=float(input(\"Ingrese el tiempo t: \"))\n",
    "        a=float(input(\"Ingrese la aceleracion vertical: \"))\n",
    "    except ValueError:\n",
    "        print(\"Intente de nuevo ingresando valores numericos.\")\n",
    "        return(None)\n",
    "    if t<0:\n",
    "        return(print(\"Ingrese un tiempo t positivo, intente de nuevo.\"))\n",
    "    \"\"\"La magnitud de la velocidad inicial Vo esta dada por\"\"\"\n",
    "    Vo_mag=(vxo**2+vyo**2)**(1/2)\n",
    "    #La velocidad en x es constante\n",
    "    \"\"\"La velocidad en y, vy1, en un tiempo t es\"\"\"\n",
    "    vy1 = vyo+a*t\n",
    "    \"\"\"La magnitud de la velocidad, V1, en un tiempo t esta dado por\"\"\"\n",
    "    V1_mag=(vxo**2 + vy1**2)**(1/2)\n",
    "    \"\"\"Las velocidades inicial y la velocidad en un tiempo t en sus componentes vectoriales\"\"\"\n",
    "    Vo_vector=[vxo,vyo]\n",
    "    V1_vector=[vxo,vy1]\n",
    "    if vxo==0 and vyo==0:\n",
    "        V1_vector=[vxo,round(vy1,2)]\n",
    "        return(print(\"La magnitud de la velocidad en el tiempo t=\",t,\"es: \",round(V1_mag,2),\"\\nLa velocidad en sus componentes (Vx,Vy) es: \",V1_vector,\"\\nEl porcentaje de la velocidad con respecto a la velocidad inicial no puede ser calculado ya que Vo = 0.\"))\n",
    "    elif vxo==0 and vyo!=0:\n",
    "        \"\"\"El porcentaje que representa la magnitud de la velocidad V1 respecto a la velocidad inicial Vo\"\"\"\n",
    "        percentage_V_mag = (V1_mag / Vo_mag) * 100\n",
    "        \"\"\"El porcentaje que representa cada componente vectorial de la velocidad en un tiempo t respecto a las componentes vectoriales de la velocidad inicial\"\"\"\n",
    "        percentage_V_vec=[\"N/A\",round((V1_vector[1] / Vo_vector[1]) * 100,2)]\n",
    "        return(print(\"El porcentaje que representa la magnitud de la velocidad en el tiempo t=\", t,\n",
    "                     \"respecto a la magnitud de la velocidad inicial es \", round(percentage_V_mag,2), \"%. \\nLos porcentajes que representan las componentes vectoriales (Vx,Vy) de la velocidad con respecto a las componentes vectoriales (Vxo,Vyo) de la velocidad inicial son \",\n",
    "                      percentage_V_vec, \"%.\"))\n",
    "    elif vyo==0 and vxo!=0:\n",
    "        percentage_V_mag = (V1_mag / Vo_mag) * 100\n",
    "        percentage_V_vec=[round((V1_vector[0] / Vo_vector[0]) * 100,2), \"N/A\"]\n",
    "        return (print(\"El porcentaje que representa la magnitud de la velocidad en el tiempo t=\", t,\n",
    "                      \"respecto a la magnitud de la velocidad inicial es \", round(percentage_V_mag,2), \"%. \\nLos porcentajes que representan las componentes vectoriales (Vx,Vy) de la velocidad con respecto a las componentes vectoriales (Vxo,Vyo) de la velocidad inicial son \",\n",
    "                      percentage_V_vec, \"%.\"))\n",
    "    else:\n",
    "        percentage_V_mag = (V1_mag / Vo_mag) * 100\n",
    "        percentage_V_vec = [round((V1_vector[0] / Vo_vector[0]) * 100,2), round((V1_vector[1] / Vo_vector[1]) * 100,2)]\n",
    "        return (print(\"El porcentaje que representa la magnitud de la velocidad en el tiempo t=\", t,\n",
    "                      \"respecto a la magnitud de la velocidad inicial es \", round(percentage_V_mag,2),\n",
    "                      \"% \\nLos porcentajes que representan las componentes vectoriales (Vx,Vy) de la velocidad con respecto a las componentes vectoriales (Vxo,Vyo) de la velocidad inicial son \",\n",
    "                      percentage_V_vec, \"%.\"))\n"
   ]
  },
  {
   "cell_type": "code",
   "execution_count": 21,
   "metadata": {},
   "outputs": [],
   "source": [
    "#porcentajevelocidades()"
   ]
  },
  {
   "cell_type": "markdown",
   "metadata": {},
   "source": [
    "### 3) ¿Cuál es la altura máxima que alcanza la pelota? ¿En qué tiempo la alcanzó?"
   ]
  },
  {
   "cell_type": "code",
   "execution_count": 7,
   "metadata": {},
   "outputs": [],
   "source": [
    "def alturamax():\n",
    "    print(\"Movimiento de proyectiles\\nCalcule la altura maxima que alcanza un proyectil y el tiempo t en el cual la alcanza.\")\n",
    "    print(\"En que unidades desea trabajar? \\n1) m/s, 2) km/hr, 3) mi/hr, 4) otras\")\n",
    "    try:\n",
    "        unidades=int(input(\"Escriba 1, 2, 3 o 4 para elegir: \"))\n",
    "    except ValueError:\n",
    "        print(\"Escriba 1, 2, 3 o 4 para elegir una opcion de unidades. Intentelo de nuevo.\")\n",
    "        return(None)\n",
    "    if unidades!=1 and unidades!=2 and unidades!=3 and unidades!=4:\n",
    "        print(\"Escriba 1, 2, 3 o 4 para elegir una opcion de unidades. Intentelo de nuevo.\")\n",
    "        return(None)\n",
    "    else:\n",
    "        if unidades==1:\n",
    "            length_unit=\"m\"\n",
    "            t_unit=\"s\"\n",
    "        elif unidades==2:\n",
    "            length_unit=\"km\"\n",
    "            t_unit=\"hr\"\n",
    "        elif unidades==3:\n",
    "            length_unit=\"mi\"\n",
    "            t_unit=\"hr\"\n",
    "        else:\n",
    "            length_unit=\"u\"\n",
    "            t_unit=\"u\"\n",
    "        try:\n",
    "            yo=float(input(\"Ingrese la posicion inicial yo: \"))\n",
    "            vyo=float(input(\"Ingrese la velocidad inicial en la direccion vertical Vy: \"))\n",
    "            a=float(input(\"Ingrese la aceleracion en la direccion vertical: \"))\n",
    "        except ValueError:\n",
    "            print(\"Ingrese valores numericos solamente, intentelo de nuevo.\")\n",
    "            return(None)\n",
    "        try:\n",
    "            tmax=-vyo/a\n",
    "        except ZeroDivisionError:\n",
    "            if vyo==0:\n",
    "                return (print(\"La altura del objeto se mantiene constante en h=\", yo, length_unit, \".\"))\n",
    "            else:\n",
    "                return (print(\"El objeto mantiene una velocidad constante, no hay altura maxima.\"))\n",
    "        hmax= yo+vyo*tmax+(1/2)*a*(tmax**2)\n",
    "        return(print(\"En el tiempo \",round(tmax,2),t_unit,\" el proyectil alcanza su altura maxima de \",round(hmax,2),length_unit,\".\"))"
   ]
  },
  {
   "cell_type": "code",
   "execution_count": 27,
   "metadata": {},
   "outputs": [],
   "source": [
    "#alturamax()"
   ]
  },
  {
   "cell_type": "code",
   "execution_count": null,
   "metadata": {},
   "outputs": [],
   "source": []
  }
 ],
 "metadata": {
  "kernelspec": {
   "display_name": "Python 3",
   "language": "python",
   "name": "python3"
  },
  "language_info": {
   "codemirror_mode": {
    "name": "ipython",
    "version": 3
   },
   "file_extension": ".py",
   "mimetype": "text/x-python",
   "name": "python",
   "nbconvert_exporter": "python",
   "pygments_lexer": "ipython3",
   "version": "3.8.3"
  }
 },
 "nbformat": 4,
 "nbformat_minor": 4
}
